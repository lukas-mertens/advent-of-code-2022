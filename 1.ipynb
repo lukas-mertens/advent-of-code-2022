{
 "cells": [
  {
   "cell_type": "markdown",
   "metadata": {},
   "source": [
    "## Part 1\n",
    "Here we only have to add up the sums of the individual blocks and output the highest at the end. For this we sum up a variable while we run through the lines until the block is finished. We store the highest sum found so far in `highestSum`. All other intermediate results are simply discarded. At the end `highestSum` is printed:"
   ]
  },
  {
   "cell_type": "code",
   "execution_count": 27,
   "metadata": {},
   "outputs": [
    {
     "name": "stdout",
     "output_type": "stream",
     "text": [
      "67633\n"
     ]
    }
   ],
   "source": [
    "with open(\"puzzle-input/1.txt\", \"r\") as f:\n",
    "    lines = f.readlines()\n",
    "    currentSum = 0\n",
    "    highestSum = 0\n",
    "    for line in lines:\n",
    "        if line.strip() == \"\":\n",
    "            highestSum =  currentSum if highestSum < currentSum else highestSum\n",
    "            currentSum = 0\n",
    "        else:\n",
    "            currentSum += int(line)\n",
    "    print(highestSum)"
   ]
  },
  {
   "cell_type": "markdown",
   "metadata": {},
   "source": [
    "## Part 2\n",
    "Now we need to output not only the elf with the most, but also with the second and third most calories. To do this, we now calculate all the totals and store them in an array:"
   ]
  },
  {
   "cell_type": "code",
   "execution_count": 28,
   "metadata": {},
   "outputs": [],
   "source": [
    "with open(\"puzzle-input/1.txt\", \"r\") as f:\n",
    "    lines = f.readlines()\n",
    "    caloriesSums = []\n",
    "    currentSum = 0\n",
    "    for line in lines:\n",
    "        if line.strip() == \"\":\n",
    "            caloriesSums.append(currentSum)\n",
    "            currentSum = 0\n",
    "        else:\n",
    "            currentSum += int(line)"
   ]
  },
  {
   "cell_type": "markdown",
   "metadata": {},
   "source": [
    "Now we only have to sort the array..."
   ]
  },
  {
   "cell_type": "code",
   "execution_count": 29,
   "metadata": {},
   "outputs": [
    {
     "name": "stdout",
     "output_type": "stream",
     "text": [
      "[5661, 9351, 15339, 18469, 18473, 18568, 19696, 20440, 20716, 24566, 25597, 26047, 26247, 26515, 27138, 28043, 28132, 28718, 28898, 29450, 30537, 31016, 31990, 32522, 32766, 33008, 34093, 34147, 34168, 34648, 34853, 35240, 35247, 35686, 35984, 36249, 36364, 36418, 36645, 36647, 36849, 37004, 37508, 37853, 38000, 38211, 38394, 38409, 38411, 38663, 38735, 38801, 38804, 39306, 39430, 39550, 39806, 39821, 40070, 40271, 40314, 40399, 40413, 40619, 40813, 40877, 40906, 41048, 41521, 41788, 41933, 41933, 41949, 42260, 42296, 42420, 42485, 42491, 42615, 42674, 42859, 43042, 43112, 43244, 43261, 43267, 43380, 43396, 43638, 43753, 43818, 44137, 44141, 44141, 44243, 44287, 44462, 44502, 44673, 44750, 44848, 45127, 45176, 45290, 45473, 45491, 45736, 45813, 45987, 46269, 46349, 46481, 46693, 46718, 46836, 46984, 47015, 47042, 47090, 47189, 47376, 47381, 47431, 47646, 47657, 47688, 47797, 47837, 47857, 47882, 48014, 48110, 48158, 48271, 48425, 48603, 48636, 48650, 48668, 48724, 49095, 49103, 49227, 49298, 49302, 49358, 49362, 49459, 49465, 49556, 49634, 49647, 49660, 49904, 49961, 50046, 50085, 50097, 50122, 50308, 50355, 50371, 50491, 50495, 50509, 50689, 50737, 50970, 51224, 51259, 51426, 51702, 51765, 51799, 51844, 52003, 52100, 52153, 52195, 52419, 52550, 52613, 52621, 52747, 53145, 53177, 53199, 53224, 53407, 53439, 53448, 53561, 53794, 53969, 53976, 53996, 54162, 54202, 54285, 54475, 54498, 54545, 54554, 54654, 54820, 54831, 54857, 55096, 55130, 55371, 55898, 55977, 56130, 57056, 57316, 57495, 57724, 57791, 58095, 58203, 58269, 58586, 58636, 58900, 59382, 59578, 59894, 60341, 60609, 61017, 61108, 61359, 63109, 63408, 63498, 63761, 63835, 64323, 65699, 66296, 67633]\n"
     ]
    }
   ],
   "source": [
    "    caloriesSums.sort()\n",
    "    print(caloriesSums)"
   ]
  },
  {
   "cell_type": "markdown",
   "metadata": {},
   "source": [
    "and print the sum of the last 3 elements:"
   ]
  },
  {
   "cell_type": "code",
   "execution_count": 30,
   "metadata": {},
   "outputs": [
    {
     "name": "stdout",
     "output_type": "stream",
     "text": [
      "199628\n"
     ]
    }
   ],
   "source": [
    "    print(caloriesSums[-1] + caloriesSums[-2] + caloriesSums[-3])"
   ]
  }
 ],
 "metadata": {
  "kernelspec": {
   "display_name": "Python 3.10.8 (conda)",
   "language": "python",
   "name": "python3"
  },
  "language_info": {
   "codemirror_mode": {
    "name": "ipython",
    "version": 3
   },
   "file_extension": ".py",
   "mimetype": "text/x-python",
   "name": "python",
   "nbconvert_exporter": "python",
   "pygments_lexer": "ipython3",
   "version": "3.10.8"
  },
  "orig_nbformat": 4,
  "vscode": {
   "interpreter": {
    "hash": "590ce53138aed7d6153621159269637b19a7057eee98c1ec986985bdef5825e4"
   }
  }
 },
 "nbformat": 4,
 "nbformat_minor": 2
}
