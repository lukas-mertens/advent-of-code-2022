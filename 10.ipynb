{
 "cells": [
  {
   "cell_type": "code",
   "execution_count": 20,
   "metadata": {},
   "outputs": [
    {
     "name": "stdout",
     "output_type": "stream",
     "text": [
      "##..##..##..##..##..##..##..##..##..##..\n",
      "###...###...###...###...###...###...###.\n",
      "####....####....####....####....####....\n",
      "#####.....#####.....#####.....#####.....\n",
      "######......######......######......####\n",
      "#######.......#######.......#######.....\n",
      "13140\n"
     ]
    }
   ],
   "source": [
    "x = 1\n",
    "currentCycle = 0\n",
    "signal_sum = 0\n",
    "\n",
    "def parse_line(line: str):\n",
    "    line = line.strip()\n",
    "    args = line.split(\" \")\n",
    "    if args[0] == \"noop\":\n",
    "        noop()\n",
    "    elif args[0] == \"addx\":\n",
    "        addx(int(args[1]))\n",
    "    return line\n",
    "\n",
    "def noop():\n",
    "    global currentCycle\n",
    "    currentCycle += 1\n",
    "    on_cycle_completed()\n",
    "    pass\n",
    "\n",
    "def addx(v):\n",
    "    global currentCycle, x\n",
    "    currentCycle += 1\n",
    "    on_cycle_completed()\n",
    "    currentCycle += 1\n",
    "    on_cycle_completed()\n",
    "    x += v\n",
    "    pass\n",
    "\n",
    "def on_cycle_completed():\n",
    "    global signal_sum, x, currentCycle\n",
    "    if currentCycle in [20, 60, 100, 140, 180, 220]:\n",
    "        signal_sum += current_signal_strength()\n",
    "\n",
    "    if is_sprite_hit():\n",
    "        print(\"#\", end='')\n",
    "    else: \n",
    "        print(\".\", end='')\n",
    "    if currentCycle % 40 == 0:\n",
    "        print(\"\")\n",
    "    \n",
    "def is_sprite_hit(): \n",
    "    global currentCycle, x\n",
    "    if x - 1 <= (currentCycle - 1) % 40 and x+1 >= (currentCycle-1) % 40:\n",
    "        return True\n",
    "\n",
    "def current_signal_strength():\n",
    "    return currentCycle * x\n",
    "\n",
    "with open(\"puzzle-input/10.txt\", \"r\") as f:\n",
    "    for line in f.readlines():\n",
    "        parse_line(str(line))\n",
    "\n",
    "    print(signal_sum)"
   ]
  }
 ],
 "metadata": {
  "kernelspec": {
   "display_name": "Python 3",
   "language": "python",
   "name": "python3"
  },
  "language_info": {
   "codemirror_mode": {
    "name": "ipython",
    "version": 3
   },
   "file_extension": ".py",
   "mimetype": "text/x-python",
   "name": "python",
   "nbconvert_exporter": "python",
   "pygments_lexer": "ipython3",
   "version": "3.10.8"
  },
  "orig_nbformat": 4,
  "vscode": {
   "interpreter": {
    "hash": "590ce53138aed7d6153621159269637b19a7057eee98c1ec986985bdef5825e4"
   }
  }
 },
 "nbformat": 4,
 "nbformat_minor": 2
}
