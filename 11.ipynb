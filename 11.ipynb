{
 "cells": [
  {
   "cell_type": "code",
   "execution_count": 113,
   "metadata": {},
   "outputs": [
    {
     "name": "stdout",
     "output_type": "stream",
     "text": [
      "Monkey  0  has  []\n",
      "Monkey  1  has  []\n",
      "Monkey  2  has  [24, 2, 2, 2, 2, 2, 2, 2, 2, 2, 2, 2, 2, 2, 2, 2, 2, 2, 2]\n",
      "Monkey  3  has  [38, 38]\n",
      "Monkey  4  has  [58, 3, 3, 3, 3, 3]\n",
      "Monkey  5  has  []\n",
      "Monkey  6  has  [5, 5, 5, 5, 5, 5, 5, 5, 5]\n",
      "Monkey  7  has  []\n",
      "Part 1:  54253\n"
     ]
    }
   ],
   "source": [
    "from typing import List, Tuple\n",
    "\n",
    "monkeys = []\n",
    "monkey_inspections = []\n",
    "\n",
    "def parse_input(input: List[str]):\n",
    "    for l in input:\n",
    "        if l.startswith(\"Monkey\"):\n",
    "            currentMonkey = {\n",
    "                \"startingItems\": [],\n",
    "                \"operation\": None,\n",
    "                \"test\": None,\n",
    "                \"true\": None,\n",
    "                \"false\": None,\n",
    "            }\n",
    "            monkeys.append(currentMonkey)\n",
    "            monkey_inspections.append(0)\n",
    "        elif l.strip().startswith(\"Starting items\"):\n",
    "            currentMonkey[\"startingItems\"] = list(map(int, l.split(\":\")[1].strip().split(\", \")))\n",
    "        elif l.strip().startswith(\"Operation\"):\n",
    "            currentMonkey[\"operation\"] = str(l.split(\"=\")[1].strip())\n",
    "        elif l.strip().startswith(\"Test\"):\n",
    "            currentMonkey[\"test\"] = int(l.split(\"by \")[1].strip())\n",
    "        elif l.strip().startswith(\"If true\"):\n",
    "            currentMonkey[\"true\"] = int(l.split(\"monkey \")[1].strip())\n",
    "        elif l.strip().startswith(\"If false\"):\n",
    "            currentMonkey[\"false\"] = int(l.split(\"monkey \")[1].strip())\n",
    "        else: \n",
    "            continue\n",
    "\n",
    "def new_worry_level(operation, v, test): \n",
    "    old = v\n",
    "    return int(eval(operation)) // 3\n",
    "\n",
    "def execute_round():\n",
    "    for idx, monkey in enumerate(monkeys):\n",
    "        for i in monkey[\"startingItems\"]:\n",
    "            new_item = new_worry_level(monkey[\"operation\"], i, monkey[\"test\"])\n",
    "            monkey_inspections[idx] += 1\n",
    "            \n",
    "            if new_item % monkey[\"test\"] == 0:\n",
    "                monkeys[monkey[\"true\"]][\"startingItems\"].append(new_item)\n",
    "            else:\n",
    "                monkeys[monkey[\"false\"]][\"startingItems\"].append(new_item)\n",
    "        monkey[\"startingItems\"] = []\n",
    "\n",
    "def print_monkeys():\n",
    "    for i, monkey in enumerate(monkeys):\n",
    "        print(\"Monkey \", i, \" has \", monkey[\"startingItems\"])\n",
    "\n",
    "with open(\"puzzle-input/11.txt\") as f:\n",
    "    parse_input(list(map(str, f.readlines())))\n",
    "    for i in range(20):\n",
    "        execute_round()\n",
    "    print_monkeys()\n",
    "    monkey_inspections.sort()\n",
    "    print('Part 1: ', monkey_inspections[-2]*monkey_inspections[-1])\n"
   ]
  },
  {
   "cell_type": "code",
   "execution_count": 114,
   "metadata": {},
   "outputs": [
    {
     "name": "stdout",
     "output_type": "stream",
     "text": [
      "Monkey  0  has  [6510154, 6137095]\n",
      "Monkey  1  has  [4023591, 63530907, 80093574, 80093574, 95420886, 57834414, 59754321]\n",
      "Monkey  2  has  [1599506, 1599506, 8257658, 8257658, 2229713, 7547663, 4443214, 7703746]\n",
      "Monkey  3  has  [8002406, 6057562, 6057562, 4109154]\n",
      "Monkey  4  has  [4987519, 3306516, 8674626, 2229726, 1900551, 7547676, 8393459, 2863319]\n",
      "Monkey  5  has  []\n",
      "Monkey  6  has  [8393313, 7427733, 6299529, 8393445, 8920125, 9139575, 7703745]\n",
      "Monkey  7  has  []\n",
      "Part 2:  50589\n"
     ]
    }
   ],
   "source": [
    "for idx, v in enumerate(map(lambda m: m[\"test\"], monkeys)):\n",
    "    common_multiple = v if idx == 0 else common_multiple * v\n",
    "monkeys = []\n",
    "monkey_inspections = []\n",
    "\n",
    "def new_worry_level(operation, v, test): \n",
    "    old = v % common_multiple\n",
    "    return int(eval(operation))\n",
    "\n",
    "with open(\"puzzle-input/11.txt\") as f:\n",
    "    parse_input(list(map(str, f.readlines())))\n",
    "    for i in range(10000):\n",
    "        execute_round()\n",
    "    print_monkeys()\n",
    "    monkey_inspections.sort()\n",
    "    print('Part 2: ', monkey_inspections[-2]*monkey_inspections[-1])\n"
   ]
  }
 ],
 "metadata": {
  "kernelspec": {
   "display_name": "Python 3",
   "language": "python",
   "name": "python3"
  },
  "language_info": {
   "codemirror_mode": {
    "name": "ipython",
    "version": 3
   },
   "file_extension": ".py",
   "mimetype": "text/x-python",
   "name": "python",
   "nbconvert_exporter": "python",
   "pygments_lexer": "ipython3",
   "version": "3.10.8"
  },
  "orig_nbformat": 4,
  "vscode": {
   "interpreter": {
    "hash": "590ce53138aed7d6153621159269637b19a7057eee98c1ec986985bdef5825e4"
   }
  }
 },
 "nbformat": 4,
 "nbformat_minor": 2
}
