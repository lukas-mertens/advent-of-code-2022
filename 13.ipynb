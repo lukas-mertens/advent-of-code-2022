{
 "cells": [
  {
   "cell_type": "code",
   "execution_count": null,
   "metadata": {},
   "outputs": [],
   "source": []
  },
  {
   "cell_type": "code",
   "execution_count": 196,
   "metadata": {},
   "outputs": [
    {
     "name": "stdout",
     "output_type": "stream",
     "text": [
      "Part 1:  5366\n",
      "Part 2:  23072\n"
     ]
    }
   ],
   "source": [
    "from typing import List\n",
    "from functools import cmp_to_key\n",
    "\n",
    "def parse_pairs(input: List[str]): \n",
    "    pairs = []\n",
    "    pair = [None, None]\n",
    "    for idx, line in enumerate(input):\n",
    "        if idx % 3 != 2:\n",
    "            pair[idx % 3 - 2] = eval(line.strip())\n",
    "        else:\n",
    "            pairs.append(pair)\n",
    "            pair = [None, None]\n",
    "    pairs.append(pair)\n",
    "    return pairs\n",
    "\n",
    "def compare_pair(pair: List): \n",
    "    for idx, item in enumerate(pair[0]):\n",
    "        if idx+1 > len(pair[1]):\n",
    "            if len(pair[1]) == 0 or pair[0][idx-1] == pair[1][idx-1]:\n",
    "                return False\n",
    "            else:\n",
    "                return True\n",
    "        elif type(item) == list or type(pair[1][idx]) == list:\n",
    "            if item == [] and pair[1][idx] == []:\n",
    "                continue\n",
    "            return compare_pair(\n",
    "                    [\n",
    "                        item if type(item) == list else [item], \n",
    "                        pair[1][idx] if type(pair[1][idx]) == list else [pair[1][idx]]\n",
    "                    ]\n",
    "                )\n",
    "        elif item > pair[1][idx]:\n",
    "            return False\n",
    "        elif item < pair[1][idx]:\n",
    "            return True\n",
    "    return True\n",
    "\n",
    "def cmp(x, y):\n",
    "    return -1 if compare_pair([x, y]) else 1\n",
    "\n",
    "with open(\"puzzle-input/13.txt\", \"r\") as f:\n",
    "    pairs = parse_pairs(list(map(str, f.readlines())))\n",
    "    packets = [pair[0] for pair in pairs]\n",
    "    packets.extend([pair[1] for pair in pairs])\n",
    "    packets.extend([[[2]], [[6]]]) # divider packets\n",
    "    sum = 0\n",
    "    for idx, pair in enumerate(pairs):\n",
    "        if compare_pair(pair):\n",
    "            sum += idx + 1\n",
    "    print(\"Part 1: \", sum)\n",
    "    packets.sort(key=cmp_to_key(cmp))\n",
    "    print(\"Part 2: \", (packets.index([[2]]) + 1)* (packets.index([[6]]) + 1))"
   ]
  },
  {
   "cell_type": "code",
   "execution_count": 197,
   "metadata": {},
   "outputs": [
    {
     "name": "stderr",
     "output_type": "stream",
     "text": [
      "test_compare_pair (__main__.TestNotebook) ... ok\n",
      "\n",
      "----------------------------------------------------------------------\n",
      "Ran 1 test in 0.004s\n",
      "\n",
      "OK\n"
     ]
    },
    {
     "data": {
      "text/plain": [
       "<unittest.main.TestProgram at 0x127afcfd0>"
      ]
     },
     "execution_count": 197,
     "metadata": {},
     "output_type": "execute_result"
    }
   ],
   "source": [
    "import unittest\n",
    "\n",
    "class TestNotebook(unittest.TestCase):\n",
    "    def test_compare_pair(self):\n",
    "        self.assertFalse(compare_pair([[[],[[],[]],[]], [[],[[]],[[],4],[3,[],[[4,8,8,6,6],[3,2],8]]]]))\n",
    "        self.assertTrue(compare_pair([[1, 2, 3], [1, 2, 3]]))\n",
    "        self.assertTrue(compare_pair([[1, 2, 3], [1, 3, 2]]))\n",
    "        self.assertFalse(compare_pair([[1, 2, 3], [1, 2]]))\n",
    "        self.assertTrue(compare_pair([[1, 2, 3], [1, 2, 4]]))\n",
    "        self.assertTrue(compare_pair([[1, 2, 3], [1, 2, 3, 4]]))\n",
    "        self.assertTrue(compare_pair([[[1], [2, 3, 4]], [[1], 4]]))\n",
    "        self.assertFalse(compare_pair([[7,7,7,7], [7,7,7]]))\n",
    "        self.assertFalse(compare_pair([[[[]]], [[]]]))\n",
    "        self.assertTrue(compare_pair([[], []]))\n",
    "        self.assertFalse(compare_pair([[8], [5, 4, 10]]))\n",
    "        self.assertTrue(compare_pair([[[[4,[0,8,2]],3,[[],[0,1,9,3,5],6],[]],[],[0,2,[[5,5,8],[8,6,5,10]],10]], [[[4,[9],[9,8,10,1,0]]],[7],[8,[0,[8,9,5,3],3,[8,4],4],0,[[]]]]]))\n",
    "        self.assertTrue(compare_pair([[[], [8, 5], 9, 10], [[[0, 2, 8, 5, 3], 4], [[5, 4, 10], [], 4, [3, 1, 4]], [], 10, 10]]))\n",
    "        self.assertTrue(compare_pair([[[[],[8,5],9,10],[7,6,10,1],[[7,[3,5,0,1],2,0,[2,0,3,7]],3,10,2,[8]],[[5,[8,2,10],[5,8,2,8,7]],7,10,[],[[3,10,4,8,4],4,9,10,2]]], [[[[0,2,8,5,3],4],[[5,4,10],[],4,[3,1,4]],[],10,10],[[],[],2,10],[6,1,[6,[2,6,4,6,4],[6]]],[[],0],[]]]))\n",
    "\n",
    "unittest.main(argv=[''], verbosity=2, exit=False)"
   ]
  }
 ],
 "metadata": {
  "kernelspec": {
   "display_name": "Python 3",
   "language": "python",
   "name": "python3"
  },
  "language_info": {
   "codemirror_mode": {
    "name": "ipython",
    "version": 3
   },
   "file_extension": ".py",
   "mimetype": "text/x-python",
   "name": "python",
   "nbconvert_exporter": "python",
   "pygments_lexer": "ipython3",
   "version": "3.10.8"
  },
  "orig_nbformat": 4,
  "vscode": {
   "interpreter": {
    "hash": "590ce53138aed7d6153621159269637b19a7057eee98c1ec986985bdef5825e4"
   }
  }
 },
 "nbformat": 4,
 "nbformat_minor": 2
}
