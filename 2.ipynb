{
 "cells": [
  {
   "cell_type": "markdown",
   "metadata": {},
   "source": [
    "## Part 1\n",
    "\n",
    "We have the following information:\n",
    "\n",
    "```\n",
    "A = Rock, 1 point\n",
    "B = Paper, 2 points\n",
    "C = Scissors, 3 points\n",
    "```\n",
    "\n",
    "```\n",
    "X = Rock\n",
    "Y = Paper\n",
    "Z = Scissors\n",
    "```\n",
    "\n",
    "```\n",
    "win = 6\n",
    "draw = 3\n",
    "lose = 0\n",
    "```\n",
    "\n",
    "At first we write a few helper functions to make our work easier:"
   ]
  },
  {
   "cell_type": "code",
   "execution_count": 1,
   "metadata": {},
   "outputs": [],
   "source": [
    "def normalizeShape(shape):\n",
    "    if shape == \"A\" or shape == \"X\":\n",
    "        return \"A\"\n",
    "    elif shape == \"B\" or shape == \"Y\":\n",
    "        return \"B\"\n",
    "    elif shape == \"C\" or shape == \"Z\":\n",
    "        return \"C\"\n",
    "\n",
    "def getShapeScore(shape):\n",
    "    shape = normalizeShape(shape)\n",
    "    if shape == \"A\":\n",
    "        return 1\n",
    "    elif shape == \"B\":\n",
    "        return 2\n",
    "    elif shape == \"C\":\n",
    "        return 3\n",
    "\n",
    "def calculateOutcome(opponent_shape, my_shape):\n",
    "    my_shape = normalizeShape(my_shape)\n",
    "    outcomeScore = [0, 0]\n",
    "    if opponent_shape == my_shape:\n",
    "        outcomeScore = [3, 3]\n",
    "    elif opponent_shape == \"A\" and my_shape == \"B\":\n",
    "        outcomeScore = [0, 6]\n",
    "    elif opponent_shape == \"A\" and my_shape == \"C\":\n",
    "        outcomeScore = [6, 0]\n",
    "    elif opponent_shape == \"A\" and my_shape == \"C\":\n",
    "        outcomeScore = [6, 0]\n",
    "    elif opponent_shape == \"B\" and my_shape == \"A\":\n",
    "        outcomeScore = [6, 0]\n",
    "    elif opponent_shape == \"B\" and my_shape == \"C\":\n",
    "        outcomeScore = [0, 6]\n",
    "    elif opponent_shape == \"C\" and my_shape == \"A\":\n",
    "        outcomeScore = [0, 6]\n",
    "    elif opponent_shape == \"C\" and my_shape == \"B\":\n",
    "        outcomeScore = [6, 0]\n",
    "    return [outcomeScore[0] + getShapeScore(opponent_shape), outcomeScore[1] + getShapeScore(my_shape)]\n"
   ]
  },
  {
   "cell_type": "markdown",
   "metadata": {},
   "source": [
    "Let's test this with the examples from the task:"
   ]
  },
  {
   "cell_type": "code",
   "execution_count": 2,
   "metadata": {},
   "outputs": [
    {
     "name": "stdout",
     "output_type": "stream",
     "text": [
      "[1, 8]\n",
      "[8, 1]\n",
      "[6, 6]\n"
     ]
    }
   ],
   "source": [
    "print(calculateOutcome(\"A\", \"Y\"))\n",
    "print(calculateOutcome(\"B\", \"X\"))\n",
    "print(calculateOutcome(\"C\", \"Z\"))"
   ]
  },
  {
   "cell_type": "markdown",
   "metadata": {},
   "source": [
    "Now we only have to sum up the result line by line:"
   ]
  },
  {
   "cell_type": "code",
   "execution_count": 3,
   "metadata": {},
   "outputs": [
    {
     "name": "stdout",
     "output_type": "stream",
     "text": [
      "[11945, 11906]\n"
     ]
    }
   ],
   "source": [
    "with open(\"puzzle-input/2.txt\", \"r\") as f:\n",
    "    lines = f.readlines()\n",
    "    score = [0, 0]\n",
    "    for line in lines:\n",
    "        shapes = line.strip().split(\" \")\n",
    "        round_score = calculateOutcome(shapes[0], shapes[1])\n",
    "        score[0] += round_score[0]\n",
    "        score[1] += round_score[1]\n",
    "    print(score)"
   ]
  },
  {
   "cell_type": "markdown",
   "metadata": {},
   "source": [
    "## Part 2\n",
    "\n",
    "Now we have to do things a little differently, but we can reuse some of our code. We write ourselves a helper method to choose the right shape:"
   ]
  },
  {
   "cell_type": "code",
   "execution_count": 4,
   "metadata": {},
   "outputs": [],
   "source": [
    "def calculateMyShape(opponent_shape, strategy):\n",
    "    winLookupTable = {\n",
    "        \"A\": \"B\",\n",
    "        \"B\": \"C\",\n",
    "        \"C\": \"A\",\n",
    "    }\n",
    "    if strategy == \"Y\": # draw\n",
    "        return opponent_shape\n",
    "    elif strategy == \"X\": # lose\n",
    "        return list(winLookupTable.keys())[list(winLookupTable.values()).index(opponent_shape)]\n",
    "    else: # win\n",
    "        return winLookupTable.get(opponent_shape)\n"
   ]
  },
  {
   "cell_type": "markdown",
   "metadata": {},
   "source": [
    "We test again with the example given:"
   ]
  },
  {
   "cell_type": "code",
   "execution_count": 5,
   "metadata": {},
   "outputs": [
    {
     "name": "stdout",
     "output_type": "stream",
     "text": [
      "A\n",
      "A\n",
      "A\n"
     ]
    }
   ],
   "source": [
    "print(calculateMyShape(\"A\", \"Y\"))\n",
    "print(calculateMyShape(\"B\", \"X\"))\n",
    "print(calculateMyShape(\"C\", \"Z\"))"
   ]
  },
  {
   "cell_type": "markdown",
   "metadata": {},
   "source": [
    "Then we simply do the same as before, but this time we calculate our own shape using the method we wrote before:"
   ]
  },
  {
   "cell_type": "code",
   "execution_count": 6,
   "metadata": {},
   "outputs": [
    {
     "name": "stdout",
     "output_type": "stream",
     "text": [
      "[13007, 11186]\n"
     ]
    }
   ],
   "source": [
    "with open(\"puzzle-input/2.txt\", \"r\") as f:\n",
    "    lines = f.readlines()\n",
    "    score = [0, 0]\n",
    "    for line in lines:\n",
    "        inp = line.strip().split(\" \")\n",
    "        round_score = calculateOutcome(inp[0], calculateMyShape(inp[0], inp[1]))\n",
    "        score[0] += round_score[0]\n",
    "        score[1] += round_score[1]\n",
    "    print(score)"
   ]
  },
  {
   "cell_type": "markdown",
   "metadata": {},
   "source": [
    "As we can see: Our opponents score is 13007 and ours is 11186 for my puzzle input."
   ]
  }
 ],
 "metadata": {
  "kernelspec": {
   "display_name": "Python 3.10.8 (conda)",
   "language": "python",
   "name": "python3"
  },
  "language_info": {
   "codemirror_mode": {
    "name": "ipython",
    "version": 3
   },
   "file_extension": ".py",
   "mimetype": "text/x-python",
   "name": "python",
   "nbconvert_exporter": "python",
   "pygments_lexer": "ipython3",
   "version": "3.10.8"
  },
  "orig_nbformat": 4,
  "vscode": {
   "interpreter": {
    "hash": "590ce53138aed7d6153621159269637b19a7057eee98c1ec986985bdef5825e4"
   }
  }
 },
 "nbformat": 4,
 "nbformat_minor": 2
}
