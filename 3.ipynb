{
 "cells": [
  {
   "cell_type": "markdown",
   "metadata": {},
   "source": [
    "# Part 1\n",
    "At first we write a few helper methods again:"
   ]
  },
  {
   "cell_type": "code",
   "execution_count": 45,
   "metadata": {},
   "outputs": [],
   "source": [
    "def findDuplicateItem(rucksack):\n",
    "    first = rucksack[0:int(len(rucksack)/2)]\n",
    "    second = rucksack[int(len(rucksack)/2):len(rucksack)]\n",
    "    for c in first:\n",
    "        if c in second:\n",
    "            return c\n",
    "\n",
    "def itemToPriority(item):\n",
    "    i = ord(item)\n",
    "    return i - 38 if i < 97 else i - 96"
   ]
  },
  {
   "cell_type": "markdown",
   "metadata": {},
   "source": [
    "Now we only have to sum up the result. This time I am using the `map()`-method and the `sum()`-method instead of a for-loop as I want to switch to a more functional approach."
   ]
  },
  {
   "cell_type": "code",
   "execution_count": 46,
   "metadata": {},
   "outputs": [
    {
     "name": "stdout",
     "output_type": "stream",
     "text": [
      "7875\n"
     ]
    }
   ],
   "source": [
    "with open(\"puzzle-input/3.txt\", \"r\") as f:\n",
    "    lines = map(lambda l : str(l).strip(), f.readlines())\n",
    "    print(sum(map(itemToPriority, map(findDuplicateItem, lines))))"
   ]
  },
  {
   "cell_type": "markdown",
   "metadata": {},
   "source": [
    "# Part 2\n",
    "\n",
    "Let's write the method that finds the badge:"
   ]
  },
  {
   "cell_type": "code",
   "execution_count": 47,
   "metadata": {},
   "outputs": [],
   "source": [
    "def findBadge(group):\n",
    "    for c in group[0]:\n",
    "        if c in group[1] and c in group[2]:\n",
    "            return c"
   ]
  },
  {
   "cell_type": "markdown",
   "metadata": {},
   "source": [
    "Because we now always have to handle 3 lines together, we start with building a list of groups. After that we call our `findBadge`-method and sum up the priorities again:"
   ]
  },
  {
   "cell_type": "code",
   "execution_count": 48,
   "metadata": {},
   "outputs": [
    {
     "name": "stdout",
     "output_type": "stream",
     "text": [
      "2479\n"
     ]
    }
   ],
   "source": [
    "with open(\"puzzle-input/3.txt\", \"r\") as f:\n",
    "    lines = map(lambda l : str(l).strip(), f.readlines())\n",
    "    groups = []\n",
    "    currentGroup = []\n",
    "    for idx, l in enumerate(lines):\n",
    "        currentGroup.append(l)\n",
    "        if idx % 3 == 2:\n",
    "            groups.append(currentGroup)\n",
    "            currentGroup = []\n",
    "    print(sum(map(itemToPriority, map(findBadge, groups))))"
   ]
  }
 ],
 "metadata": {
  "kernelspec": {
   "display_name": "Python 3.10.8 (conda)",
   "language": "python",
   "name": "python3"
  },
  "language_info": {
   "codemirror_mode": {
    "name": "ipython",
    "version": 3
   },
   "file_extension": ".py",
   "mimetype": "text/x-python",
   "name": "python",
   "nbconvert_exporter": "python",
   "pygments_lexer": "ipython3",
   "version": "3.10.8"
  },
  "orig_nbformat": 4,
  "vscode": {
   "interpreter": {
    "hash": "590ce53138aed7d6153621159269637b19a7057eee98c1ec986985bdef5825e4"
   }
  }
 },
 "nbformat": 4,
 "nbformat_minor": 2
}
