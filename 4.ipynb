{
 "cells": [
  {
   "cell_type": "markdown",
   "metadata": {},
   "source": [
    "## Part 1\n",
    "\n",
    "Let's start with parsing the input:"
   ]
  },
  {
   "cell_type": "code",
   "execution_count": 83,
   "metadata": {},
   "outputs": [],
   "source": [
    "def parseInput(lines):\n",
    "    lines = map(str, lines)\n",
    "    parsed = []\n",
    "    for line in lines:\n",
    "        line = line.strip()\n",
    "        parsed.append(list(map(lambda v: list(map(int,v.split(\"-\"))), line.split(\",\"))))\n",
    "    return parsed\n"
   ]
  },
  {
   "cell_type": "markdown",
   "metadata": {},
   "source": [
    "Now we have an array in the form of `[[firstLow, firstHigh], [secondLow, secondHigh]]`. Let's find out if one fully contains the other:"
   ]
  },
  {
   "cell_type": "code",
   "execution_count": 84,
   "metadata": {},
   "outputs": [],
   "source": [
    "def doesFullyOverlap(pair):\n",
    "    return (pair[0][0] <= pair[1][0] and pair[0][1] >= pair[1][1]) or (pair[1][0] <= pair[0][0] and pair[1][1] >= pair[0][1])"
   ]
  },
  {
   "cell_type": "markdown",
   "metadata": {},
   "source": [
    "Let's count for how many this is true:"
   ]
  },
  {
   "cell_type": "code",
   "execution_count": 85,
   "metadata": {},
   "outputs": [
    {
     "name": "stdout",
     "output_type": "stream",
     "text": [
      "532\n"
     ]
    }
   ],
   "source": [
    "with open(\"puzzle-input/4.txt\", \"r\") as f:\n",
    "    print(sum(list(map(doesFullyOverlap, parseInput(f.readlines())))))"
   ]
  },
  {
   "cell_type": "markdown",
   "metadata": {},
   "source": [
    "## Part 2\n",
    "\n",
    "Part 2 is pretty easy. We just have to adopt our formula a bit."
   ]
  },
  {
   "cell_type": "code",
   "execution_count": 86,
   "metadata": {},
   "outputs": [
    {
     "name": "stdout",
     "output_type": "stream",
     "text": [
      "854\n"
     ]
    }
   ],
   "source": [
    "def doesOverlap(pair):\n",
    "    return (pair[1][0] <= pair[0][1] and pair[1][0] >= pair[0][0]) or (pair[0][0] <= pair[1][1] and pair[0][0] >= pair[1][0])\n",
    "\n",
    "with open(\"puzzle-input/4.txt\", \"r\") as f:\n",
    "    print(sum(list(map(doesOverlap, parseInput(f.readlines())))))"
   ]
  }
 ],
 "metadata": {
  "kernelspec": {
   "display_name": "Python 3.10.8 (conda)",
   "language": "python",
   "name": "python3"
  },
  "language_info": {
   "codemirror_mode": {
    "name": "ipython",
    "version": 3
   },
   "file_extension": ".py",
   "mimetype": "text/x-python",
   "name": "python",
   "nbconvert_exporter": "python",
   "pygments_lexer": "ipython3",
   "version": "3.10.8"
  },
  "orig_nbformat": 4,
  "vscode": {
   "interpreter": {
    "hash": "590ce53138aed7d6153621159269637b19a7057eee98c1ec986985bdef5825e4"
   }
  }
 },
 "nbformat": 4,
 "nbformat_minor": 2
}
