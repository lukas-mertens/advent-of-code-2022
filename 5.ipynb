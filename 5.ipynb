{
 "cells": [
  {
   "cell_type": "markdown",
   "metadata": {},
   "source": [
    "# Day 5\n",
    "Link to challenge: https://adventofcode.com/2022/day/5\n",
    "\n",
    "## Part 1\n",
    "\n",
    "Just as usual, we start with parsing the input. This time I decided to start writing unit-tests, as the challenges are slowly getting harder and unit-tests will significantly reduce the amount of mistakes I will make. I had a quick look on how I could implement unit-tests in Jupyter and found an [answer](https://stackoverflow.com/questions/40172281/unit-tests-for-functions-in-a-jupyter-notebook) on stackoverflow, let's try it out. I wrote all unit-tests at the end of this notebook, even though I wrote them first ([TDD](https://en.wikipedia.org/wiki/Test-driven_development))."
   ]
  },
  {
   "cell_type": "code",
   "execution_count": 68,
   "metadata": {},
   "outputs": [],
   "source": [
    "def parse_input(lines):\n",
    "    lines = map(str, lines)\n",
    "    stacks_fully_parsed = False\n",
    "    stack_lines = []\n",
    "    instruction_lines = []\n",
    "    for line in lines:\n",
    "        if line.strip() == \"\":\n",
    "            stacks_fully_parsed = True\n",
    "            continue\n",
    "        if stacks_fully_parsed:\n",
    "            instruction_lines.append(parse_instruction_line(line))\n",
    "        else:\n",
    "            stack_lines.append(parse_stack_line(line))\n",
    "    return instruction_lines, build_stacks_from_stack_lines(stack_lines)\n",
    "    \n",
    "\n",
    "def parse_instruction_line(line: str):\n",
    "    splitted = line.strip().split(\" \")\n",
    "    return [int(splitted[1]), int(splitted[3]), int(splitted[5])]\n",
    "\n",
    "def parse_stack_line(line: str):\n",
    "    if \"[\" not in line:\n",
    "        return None # this is the line with the numbers. We don't care about this\n",
    "    else:\n",
    "        line = line.rstrip()\n",
    "        stacks = []\n",
    "        for idx, c in enumerate(line):\n",
    "            if idx % 4 == 1:\n",
    "                stacks.append(c if c != \" \" else None)\n",
    "        return stacks\n",
    "\n",
    "def build_stacks_from_stack_lines(stack_lines: list):\n",
    "    stack_lines = list(filter(lambda l: l != None, stack_lines))\n",
    "    amount_of_stacks = max(map(len, stack_lines))\n",
    "    stacks = [[] for i in range(amount_of_stacks)]\n",
    "    for i in range(len(stack_lines)):\n",
    "        stacks = push_stack_line_to_stacks(stacks, stack_lines[-i - 1])\n",
    "    return stacks\n",
    "\n",
    "def push_stack_line_to_stacks(stacks, stack_line):\n",
    "    stacks = list(stacks) # prevent side-effects\n",
    "    for idx, el in enumerate(stack_line):\n",
    "        if el != None:\n",
    "            stacks[idx].append(el)\n",
    "    return stacks"
   ]
  },
  {
   "cell_type": "markdown",
   "metadata": {},
   "source": [
    "Parsing is done! 🥳 Let's start executing the instructions onto the stacks!"
   ]
  },
  {
   "cell_type": "code",
   "execution_count": 69,
   "metadata": {},
   "outputs": [],
   "source": [
    "def execute_instruction_on_stacks(instruction: list, stacks: list):\n",
    "    stacks = list(stacks) # to prevent side-effects\n",
    "    for i in range(instruction[0]):\n",
    "        stacks[instruction[2]-1].append(stacks[instruction[1]-1].pop())\n",
    "    return stacks"
   ]
  },
  {
   "cell_type": "markdown",
   "metadata": {},
   "source": [
    "Now we can put everything together."
   ]
  },
  {
   "cell_type": "code",
   "execution_count": 70,
   "metadata": {},
   "outputs": [
    {
     "name": "stdout",
     "output_type": "stream",
     "text": [
      "CNSZFDVLJ\n"
     ]
    }
   ],
   "source": [
    "with open(\"puzzle-input/5.txt\", \"r\") as f:\n",
    "    instructions, stacks = parse_input(f.readlines())\n",
    "    for inst in instructions:\n",
    "        stacks = execute_instruction_on_stacks(inst, stacks)\n",
    "\n",
    "    # Print top element of each stack\n",
    "    print(''.join(map(lambda stack: stack[-1], stacks)))"
   ]
  },
  {
   "cell_type": "markdown",
   "metadata": {},
   "source": [
    "## Part 2\n",
    "\n",
    "Now we have to move multiple crates at once, so we modify our `execute_instruction_on_stacks`-method with a simple temporary stack. I know, this is not the most clever solution but it works and is easy to understand. For elegant solution take a look in the leaderboard ;)"
   ]
  },
  {
   "cell_type": "code",
   "execution_count": 71,
   "metadata": {},
   "outputs": [
    {
     "name": "stdout",
     "output_type": "stream",
     "text": [
      "QNDWLMGNS\n"
     ]
    }
   ],
   "source": [
    "def execute_cratemover_9001_instruction_on_stacks(instruction: list, stacks: list):\n",
    "    stacks = list(stacks) # to prevent side-effects\n",
    "    temp_stack = []\n",
    "    for i in range(instruction[0]):\n",
    "        temp_stack.append(stacks[instruction[1]-1].pop())\n",
    "    for i in range(len(temp_stack)):\n",
    "        stacks[instruction[2]-1].append(temp_stack.pop())\n",
    "    return stacks\n",
    "\n",
    "with open(\"puzzle-input/5.txt\", \"r\") as f:\n",
    "    instructions, stacks = parse_input(f.readlines())\n",
    "    for inst in instructions:\n",
    "        stacks = execute_cratemover_9001_instruction_on_stacks(inst, stacks)\n",
    "\n",
    "    # Print top element of each stack\n",
    "    print(''.join(map(lambda stack: stack[-1], stacks)))"
   ]
  },
  {
   "cell_type": "code",
   "execution_count": 72,
   "metadata": {},
   "outputs": [
    {
     "name": "stderr",
     "output_type": "stream",
     "text": [
      "test_execute_cratemover_9001_instruction_on_stacks (__main__.TestNotebook) ... ok\n",
      "test_execute_instruction_on_stacks (__main__.TestNotebook) ... ok\n",
      "test_parse_instruction_line (__main__.TestNotebook) ... ok\n",
      "test_parse_instruction_line_multiple_digits (__main__.TestNotebook) ... ok\n",
      "test_parse_stack_line_1 (__main__.TestNotebook) ... ok\n",
      "test_parse_stack_line_2 (__main__.TestNotebook) ... ok\n",
      "test_push_stack_line_to_stacks (__main__.TestNotebook) ... ok\n",
      "\n",
      "----------------------------------------------------------------------\n",
      "Ran 7 tests in 0.005s\n",
      "\n",
      "OK\n"
     ]
    },
    {
     "data": {
      "text/plain": [
       "<unittest.main.TestProgram at 0x106e5b280>"
      ]
     },
     "execution_count": 72,
     "metadata": {},
     "output_type": "execute_result"
    }
   ],
   "source": [
    "import unittest\n",
    "\n",
    "class TestNotebook(unittest.TestCase):\n",
    "    \n",
    "    def test_parse_instruction_line(self):\n",
    "        self.assertListEqual(parse_instruction_line(\"move 3 from 9 to 6\"), [3, 9, 6])\n",
    "\n",
    "    def test_parse_instruction_line_multiple_digits(self):\n",
    "        self.assertListEqual(parse_instruction_line(\"move 30 from 90 to 60\"), [30, 90, 60])\n",
    "\n",
    "    def test_parse_stack_line_1(self):\n",
    "        self.assertListEqual(parse_stack_line(\"                        [Z] [W] [Z]\"), [None, None, None, None, None, None, \"Z\", \"W\", \"Z\"])\n",
    "\n",
    "    def test_parse_stack_line_2(self):\n",
    "        self.assertEqual(parse_stack_line(\" 1   2   3   4   5   6   7   8   9 \"), None)\n",
    "    \n",
    "    def test_push_stack_line_to_stacks(self):\n",
    "        self.assertListEqual(push_stack_line_to_stacks([[\"A\", \"B\", \"C\"], []], [\"D\", None]), [[\"A\", \"B\", \"C\", \"D\"], []])\n",
    "    \n",
    "    def test_execute_instruction_on_stacks(self):\n",
    "        self.assertListEqual(execute_instruction_on_stacks([2, 1, 3], [[\"A\", \"B\"], [], [\"C\"]]), [[], [], [\"C\", \"B\", \"A\"]])\n",
    "    \n",
    "    def test_execute_cratemover_9001_instruction_on_stacks(self):\n",
    "        self.assertListEqual(execute_cratemover_9001_instruction_on_stacks([2, 1, 3], [[\"A\", \"B\"], [], [\"C\"]]), [[], [], [\"C\", \"A\", \"B\"]])\n",
    "\n",
    "unittest.main(argv=[''], verbosity=2, exit=False)"
   ]
  }
 ],
 "metadata": {
  "kernelspec": {
   "display_name": "Python 3.10.8 (conda)",
   "language": "python",
   "name": "python3"
  },
  "language_info": {
   "codemirror_mode": {
    "name": "ipython",
    "version": 3
   },
   "file_extension": ".py",
   "mimetype": "text/x-python",
   "name": "python",
   "nbconvert_exporter": "python",
   "pygments_lexer": "ipython3",
   "version": "3.10.8"
  },
  "orig_nbformat": 4,
  "vscode": {
   "interpreter": {
    "hash": "590ce53138aed7d6153621159269637b19a7057eee98c1ec986985bdef5825e4"
   }
  }
 },
 "nbformat": 4,
 "nbformat_minor": 2
}
