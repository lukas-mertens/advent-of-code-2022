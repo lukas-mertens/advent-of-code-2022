{
 "cells": [
  {
   "cell_type": "markdown",
   "metadata": {},
   "source": [
    "# Day 6 \n",
    "Link to challenge: https://adventofcode.com/2022/day/6\n",
    "\n",
    "## Part 1\n",
    "\n",
    "This time the challenge was to find a certain amount of unique characters in a given stream of characters. On the spot I decided to use something like a queue which I use as a moving window over my stream and look everytime if it would qualify as a start-marker. This was my first idea, other solutions would be possible as well, which would need way less code. Again, have a look at the leaderboard ;)"
   ]
  },
  {
   "cell_type": "code",
   "execution_count": 54,
   "metadata": {},
   "outputs": [
    {
     "name": "stdout",
     "output_type": "stream",
     "text": [
      "1760\n"
     ]
    }
   ],
   "source": [
    "def find_start_marker(seq: str):\n",
    "    queue = [None, None, None, None]\n",
    "    counter = 0\n",
    "    for c in seq:\n",
    "        queue.insert(0, c)\n",
    "        queue.pop()\n",
    "        counter += 1\n",
    "        if is_start_marker(queue):\n",
    "            return counter\n",
    "\n",
    "def is_start_marker(queue: list):\n",
    "    return sum(map(lambda v: queue.count(v), queue)) == 4 and queue.count(None) == 0\n",
    "\n",
    "with open(\"puzzle-input/6.txt\", \"r\") as f:\n",
    "    print(find_start_marker(str(f.readline())))"
   ]
  },
  {
   "cell_type": "markdown",
   "metadata": {},
   "source": [
    "## Part 2\n",
    "\n",
    "Now we just had to generalize our solution to work with 14 instead of 4 characters, so I took the chance to refactor my methods a bit:"
   ]
  },
  {
   "cell_type": "code",
   "execution_count": 55,
   "metadata": {},
   "outputs": [
    {
     "name": "stdout",
     "output_type": "stream",
     "text": [
      "Part 1:  1760\n",
      "Part 2:  2974\n"
     ]
    }
   ],
   "source": [
    "def find_marker(seq: str, unique_characters: int):\n",
    "    queue = [None for i in range(unique_characters)]\n",
    "    counter = 0\n",
    "    for c in seq:\n",
    "        queue.insert(0, c)\n",
    "        queue.pop()\n",
    "        counter += 1\n",
    "        if is_marker(queue):\n",
    "            return counter\n",
    "\n",
    "def is_marker(queue: list):\n",
    "    return sum(map(lambda v: queue.count(v), queue)) == len(queue) and queue.count(None) == 0\n",
    "\n",
    "with open(\"puzzle-input/6.txt\", \"r\") as f:\n",
    "    seq = str(f.readline())\n",
    "    print(\"Part 1: \", find_marker(seq, 4))\n",
    "    print(\"Part 2: \", find_marker(seq, 14))"
   ]
  },
  {
   "cell_type": "markdown",
   "metadata": {},
   "source": [
    "## Unit-Tests\n",
    "Last but not least some unit-tests again:"
   ]
  },
  {
   "cell_type": "code",
   "execution_count": 56,
   "metadata": {},
   "outputs": [
    {
     "name": "stderr",
     "output_type": "stream",
     "text": [
      "test_examples_part_1 (__main__.TestNotebook) ... ok\n",
      "test_examples_part_2 (__main__.TestNotebook) ... ok\n",
      "test_is_marker (__main__.TestNotebook) ... ok\n",
      "test_is_start_marker (__main__.TestNotebook) ... ok\n",
      "\n",
      "----------------------------------------------------------------------\n",
      "Ran 4 tests in 0.004s\n",
      "\n",
      "OK\n"
     ]
    },
    {
     "data": {
      "text/plain": [
       "<unittest.main.TestProgram at 0x1060dcaf0>"
      ]
     },
     "execution_count": 56,
     "metadata": {},
     "output_type": "execute_result"
    }
   ],
   "source": [
    "import unittest\n",
    "\n",
    "class TestNotebook(unittest.TestCase):\n",
    "    \n",
    "    def test_is_start_marker(self):\n",
    "        self.assertFalse(is_start_marker([\"c\", \"c\", \"b\", \"d\"]))\n",
    "        self.assertTrue(is_start_marker([\"c\", \"b\", \"d\", \"e\"]))\n",
    "        self.assertFalse(is_start_marker([\"c\", \"c\", \"b\", \"b\"]))\n",
    "        self.assertFalse(is_start_marker([\"c\", \"b\", \"d\", None]))\n",
    "\n",
    "    def test_is_marker(self):\n",
    "        self.assertFalse(is_marker([\"c\", \"c\", \"b\", \"d\"]))\n",
    "        self.assertTrue(is_marker([\"c\", \"b\", \"d\", \"e\"]))\n",
    "        self.assertFalse(is_marker([\"c\", \"c\", \"b\", \"b\"]))\n",
    "        self.assertFalse(is_marker([\"c\", \"b\", \"d\", None]))\n",
    "        self.assertTrue(is_marker([\"c\", \"b\", \"d\"]))\n",
    "        self.assertTrue(is_marker([\"c\", \"b\", \"d\", \"e\", \"f\", \"g\"]))\n",
    "    \n",
    "    def test_examples_part_1(self):\n",
    "        self.assertEqual(find_start_marker(\"bvwbjplbgvbhsrlpgdmjqwftvncz\"), 5)\n",
    "        self.assertEqual(find_start_marker(\"nppdvjthqldpwncqszvftbrmjlhg\"), 6)\n",
    "        self.assertEqual(find_start_marker(\"nznrnfrfntjfmvfwmzdfjlvtqnbhcprsg\"), 10)\n",
    "        self.assertEqual(find_start_marker(\"zcfzfwzzqfrljwzlrfnpqdbhtmscgvjw\"), 11)\n",
    "\n",
    "    def test_examples_part_2(self):\n",
    "        self.assertEqual(find_marker(\"mjqjpqmgbljsphdztnvjfqwrcgsmlb\", 14), 19)\n",
    "        self.assertEqual(find_marker(\"bvwbjplbgvbhsrlpgdmjqwftvncz\", 14), 23)\n",
    "        self.assertEqual(find_marker(\"nppdvjthqldpwncqszvftbrmjlhg\", 14), 23)\n",
    "        self.assertEqual(find_marker(\"nznrnfrfntjfmvfwmzdfjlvtqnbhcprsg\", 14), 29)\n",
    "        self.assertEqual(find_marker(\"zcfzfwzzqfrljwzlrfnpqdbhtmscgvjw\", 14), 26)\n",
    "\n",
    "unittest.main(argv=[''], verbosity=2, exit=False)"
   ]
  },
  {
   "cell_type": "markdown",
   "metadata": {},
   "source": []
  }
 ],
 "metadata": {
  "kernelspec": {
   "display_name": "Python 3.10.8 (conda)",
   "language": "python",
   "name": "python3"
  },
  "language_info": {
   "codemirror_mode": {
    "name": "ipython",
    "version": 3
   },
   "file_extension": ".py",
   "mimetype": "text/x-python",
   "name": "python",
   "nbconvert_exporter": "python",
   "pygments_lexer": "ipython3",
   "version": "3.10.8"
  },
  "orig_nbformat": 4,
  "vscode": {
   "interpreter": {
    "hash": "590ce53138aed7d6153621159269637b19a7057eee98c1ec986985bdef5825e4"
   }
  }
 },
 "nbformat": 4,
 "nbformat_minor": 2
}
