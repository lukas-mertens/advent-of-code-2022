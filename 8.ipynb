{
 "cells": [
  {
   "cell_type": "code",
   "execution_count": 48,
   "metadata": {},
   "outputs": [
    {
     "name": "stdout",
     "output_type": "stream",
     "text": [
      "Part 1 1843\n"
     ]
    }
   ],
   "source": [
    "import sys\n",
    "\n",
    "def parse_input_to_grid(lines: list): \n",
    "    return list(map(lambda l: [int(c) for c in str(l).strip()], lines))\n",
    "\n",
    "def is_visible(grid, x, y):\n",
    "    return all_smaller(grid, x, y, x, 0)[0] or all_smaller(grid, x, y, x, len(grid)-1)[0] or all_smaller(grid, x, y, 0, y)[0] or all_smaller(grid, x, y, len(grid[0])-1, y)[0]\n",
    "\n",
    "# first returned value is whether or not all are smaller\n",
    "# second value is the amount of tree the elves can see \n",
    "def all_smaller(grid, startX, startY, endX, endY):\n",
    "    stepX = -1 if (endX-startX) < 0 else 1\n",
    "    stepY = -1 if (endY-startY) < 0 else 1\n",
    "    for x in range(0, endX - startX + stepX, stepX): # because range(0) would not executing at least once, we have to do + stepX\n",
    "        for y in range(0, endY - startY + stepY, stepY):\n",
    "            if x == 0 and y == 0:\n",
    "                continue # ignore self\n",
    "            elif grid[startY + y][startX + x] >= grid[startY][startX]:\n",
    "                return False, abs(x+y)\n",
    "    return True, abs((startX-endX) + (startY-endY))\n",
    "\n",
    "def scenic_score(grid, x, y):\n",
    "    return all_smaller(grid, x, y, x, 0)[1] * all_smaller(grid, x, y, x, len(grid)-1)[1] * all_smaller(grid, x, y, 0, y)[1] * all_smaller(grid, x, y, len(grid[0])-1, y)[1]\n",
    "\n",
    "def print_grid(grid): \n",
    "    for l in grid:\n",
    "        print(\"\".join(map(str, l)))\n",
    "\n",
    "def count_visible_trees(grid):\n",
    "    count = 0\n",
    "    for y, v in enumerate(grid):\n",
    "        for x, w in enumerate(grid):\n",
    "            if is_visible(grid, x, y):\n",
    "                count += 1\n",
    "    return count\n",
    "\n",
    "def max_scenic_score(grid):\n",
    "    return max([scenic_score(grid, x, y) for x in range(len(grid[0])) for y in range(len(grid))])\n",
    "\n",
    "with open(\"puzzle-input/8.txt\", \"r\") as f:\n",
    "    grid = parse_input_to_grid(f.readlines())\n",
    "    print(\"Part 1\", str(count_visible_trees(grid)))\n",
    "    print(\"Part 2\", max_scenic_score(grid))"
   ]
  },
  {
   "cell_type": "code",
   "execution_count": 49,
   "metadata": {},
   "outputs": [
    {
     "name": "stderr",
     "output_type": "stream",
     "text": [
      "test_all_smaller (__main__.TestNotebook) ... ok\n",
      "test_is_visible (__main__.TestNotebook) ... ok\n",
      "test_max_scenic_score (__main__.TestNotebook) ... ok\n",
      "test_scenic_score (__main__.TestNotebook) ... ok\n",
      "\n",
      "----------------------------------------------------------------------\n",
      "Ran 4 tests in 0.003s\n",
      "\n",
      "OK\n"
     ]
    },
    {
     "name": "stdout",
     "output_type": "stream",
     "text": [
      "[0, 0, 0, 0, 0, 0, 1, 6, 1, 0, 0, 4, 1, 8, 0, 0, 1, 2, 3, 0, 0, 0, 0, 0, 0]\n"
     ]
    },
    {
     "data": {
      "text/plain": [
       "<unittest.main.TestProgram at 0x11009f130>"
      ]
     },
     "execution_count": 49,
     "metadata": {},
     "output_type": "execute_result"
    }
   ],
   "source": [
    "import unittest\n",
    "\n",
    "class TestNotebook(unittest.TestCase):\n",
    "    example_grid = [\n",
    "            [3,0,3,7,3],\n",
    "            [2,5,5,1,2],\n",
    "            [6,5,3,3,2],\n",
    "            [3,3,5,4,9],\n",
    "            [3,5,3,9,0]\n",
    "        ]\n",
    "\n",
    "    def test_all_smaller(self):\n",
    "        self.assertTrue(all_smaller(self.example_grid, 0, 0, 0, 0)[0])\n",
    "        self.assertTrue(all_smaller(self.example_grid, 1, 1, 1, 0)[0])\n",
    "        self.assertTrue(all_smaller(self.example_grid, 1, 1, 0, 1)[0])\n",
    "        self.assertTrue(all_smaller(self.example_grid, 4, 4, 4, 4)[0])\n",
    "        self.assertFalse(all_smaller(self.example_grid, 4, 4, 0, 4)[0])\n",
    "        self.assertFalse(all_smaller(self.example_grid, 4, 4, 4, 0)[0])\n",
    "        self.assertFalse(all_smaller(self.example_grid, 0, 1, 4, 1)[0])\n",
    "    \n",
    "    def test_is_visible(self):\n",
    "        self.assertTrue(is_visible(self.example_grid, 0, 0))\n",
    "        self.assertTrue(is_visible(self.example_grid, 1, 1))\n",
    "        self.assertTrue(is_visible(self.example_grid, 1, 2))\n",
    "        self.assertFalse(is_visible(self.example_grid, 3, 1))\n",
    "\n",
    "    def test_scenic_score(self):\n",
    "        self.assertEqual(scenic_score(self.example_grid, 2, 1), 4)\n",
    "        self.assertEqual(scenic_score(self.example_grid, 2, 3), 8)\n",
    "        self.assertEqual(scenic_score(self.example_grid, 0, 0), 0)\n",
    "        self.assertEqual(scenic_score(self.example_grid, 0, 1), 0)\n",
    "        self.assertEqual(scenic_score(self.example_grid, 2, 4), 0)\n",
    "        self.assertEqual(scenic_score(self.example_grid, 1, 3), 1)\n",
    "\n",
    "    def test_max_scenic_score(self):\n",
    "        self.assertEqual(max_scenic_score(self.example_grid), 8)\n",
    "\n",
    "unittest.main(argv=[''], verbosity=2, exit=False)"
   ]
  }
 ],
 "metadata": {
  "kernelspec": {
   "display_name": "Python 3.10.8 (conda)",
   "language": "python",
   "name": "python3"
  },
  "language_info": {
   "codemirror_mode": {
    "name": "ipython",
    "version": 3
   },
   "file_extension": ".py",
   "mimetype": "text/x-python",
   "name": "python",
   "nbconvert_exporter": "python",
   "pygments_lexer": "ipython3",
   "version": "3.10.8"
  },
  "orig_nbformat": 4,
  "vscode": {
   "interpreter": {
    "hash": "590ce53138aed7d6153621159269637b19a7057eee98c1ec986985bdef5825e4"
   }
  }
 },
 "nbformat": 4,
 "nbformat_minor": 2
}
